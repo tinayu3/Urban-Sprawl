{
 "cells": [
  {
   "cell_type": "code",
   "execution_count": null,
   "id": "8d84547f-72e3-4a6c-868c-ae70bb4329dd",
   "metadata": {},
   "outputs": [],
   "source": [
    "import numpy as np\n",
    "import pandas as pd\n",
    "import matplotlib.pyplot as plt"
   ]
  },
  {
   "cell_type": "code",
   "execution_count": null,
   "id": "aa573e61-ce62-4909-baa4-f85578d41d15",
   "metadata": {},
   "outputs": [],
   "source": [
    "data1 = pd.read_excel('meal_order_detail.xlsx',sheet_name='meal_order_detail1')\n",
    "data2 = pd.read_excel('meal_order_detail.xlsx',sheet_name='meal_order_detail2')\n",
    "data3 = pd.read_excel('meal_order_detail.xlsx',sheet_name='meal_order_detail3')"
   ]
  },
  {
   "cell_type": "code",
   "execution_count": null,
   "id": "9cb3bb5c-c456-49cb-abc9-6d6cf51c2937",
   "metadata": {},
   "outputs": [],
   "source": [
    "data = pd.concat([data1,data2,data3],axis=0)  \n",
    "data.head(5)"
   ]
  },
  {
   "cell_type": "code",
   "execution_count": null,
   "id": "07bbb32e-9058-4386-8982-b22e0b3d1195",
   "metadata": {},
   "outputs": [],
   "source": [
    "data.dropna(axis=1,inplace=True)\n",
    "data.info()"
   ]
  },
  {
   "cell_type": "code",
   "execution_count": null,
   "id": "cdeaf5f9-b64a-48ea-9aff-f3ec34884e25",
   "metadata": {},
   "outputs": [],
   "source": [
    "round(data['amounts'].mean(),3)  #Method 1: Pandas built-in function\n",
    "round(np.mean(data['amounts']),3)  #Method 2: numpy function processing"
   ]
  },
  {
   "cell_type": "code",
   "execution_count": null,
   "id": "84766cb2-89d9-4963-a320-91c97d7b2bae",
   "metadata": {},
   "outputs": [],
   "source": [
    "dishes_count = data['dishes_name'].value_counts()[:10]\n",
    "print(dishes_count)"
   ]
  },
  {
   "cell_type": "code",
   "execution_count": null,
   "id": "f1d8134d-e630-4e51-98fd-5fc669d39d12",
   "metadata": {},
   "outputs": [],
   "source": [
    "dishes_count.plot(kind='bar',fontsize=16)\n",
    "for x,y in enumerate(dishes_count):\n",
    "    plt.text(x,y+2,y,ha='center',fontsize=12)#Display quantity and center point"
   ]
  },
  {
   "cell_type": "code",
   "execution_count": null,
   "id": "05cf3568-ab62-46c5-b6f9-2e014da798e0",
   "metadata": {},
   "outputs": [],
   "source": [
    "data['total_amounts'] =data['counts']*data['amounts']  #Calculate the total consumption of a single dish\n",
    "dataGroup = data[['order_id','counts','amounts','total_amounts']].groupby(by='order_id')\n",
    "Group_sum = dataGroup.sum()  #Group sum\n",
    "sort_counts = Group_sum.sort_values(by='counts',ascending=False)\n",
    "sort_counts"
   ]
  },
  {
   "cell_type": "code",
   "execution_count": null,
   "id": "4d20e1d4-47b0-4526-bd45-4d96455bac75",
   "metadata": {},
   "outputs": [],
   "source": [
    "sort_counts['counts'][:10].plot(kind='bar',fontsize=16)\n",
    "plt.xlabel('Order ID')\n",
    "plt.ylabel('Number of dishes ordered')\n",
    "plt.title('Top 10 order IDs by number of dishes ordered')"
   ]
  },
  {
   "cell_type": "code",
   "execution_count": null,
   "id": "bd608777-0ade-4d8d-acb9-9acc4d3c6533",
   "metadata": {},
   "outputs": [],
   "source": [
    "sort_total_amounts = Group_sum.sort_values(by='total_amounts',ascending=False)\n",
    "sort_total_amounts "
   ]
  },
  {
   "cell_type": "code",
   "execution_count": null,
   "id": "7d46fa22-61cb-4730-b142-9b4ee189adaf",
   "metadata": {},
   "outputs": [],
   "source": [
    "sort_total_amounts['total_amounts'][:10].plot(kind='bar')\n",
    "plt.xlabel('Order ID')\n",
    "plt.ylabel('Consumption amount')\n",
    "plt.title('Top 10 by spending amount')"
   ]
  },
  {
   "cell_type": "code",
   "execution_count": null,
   "id": "6ac10166-504e-40ad-aa6c-698098e8ff6e",
   "metadata": {},
   "outputs": [],
   "source": [
    "data['hourcount'] = 1 # New column, used as a counter\n",
    "data['time'] = pd.to_datetime(data['place_order_time']) #Convert time into date type for storage\n",
    "data['hour'] = data['time'].map(lambda x:x.hour)\n",
    "gp_by_hour = data.groupby(by='hour').count()['hourcount']\n",
    "gp_by_hour"
   ]
  },
  {
   "cell_type": "code",
   "execution_count": null,
   "id": "bbfbcff1-e763-41f7-ba13-da0f4f1ccf6f",
   "metadata": {},
   "outputs": [],
   "source": [
    "gp_by_hour.plot(kind='bar')\n",
    "plt.xlabel('Hour')\n",
    "plt.ylabel('Number of dishes ordered')\n",
    "plt.title('Relationship between the number of dishes ordered and the hours')"
   ]
  },
  {
   "cell_type": "code",
   "execution_count": null,
   "id": "0484f0d2-e924-448e-85bc-e5a589a6e369",
   "metadata": {},
   "outputs": [],
   "source": [
    "data['weekcount'] = 1\n",
    "data['weekday'] = data['time'].map(lambda x:x.weekday())\n",
    "gp_by_weekday = data.groupby(by='weekday').count()['weekcount']\n",
    "gp_by_weekday"
   ]
  },
  {
   "cell_type": "code",
   "execution_count": null,
   "id": "530519f1-41d0-4315-a01a-19d2d7c8d78c",
   "metadata": {},
   "outputs": [],
   "source": [
    "gp_by_weekday.plot(kind='bar')\n",
    "plt.xlabel('Week')\n",
    "plt.ylabel('Number of dishes ordered')\n",
    "plt.title('Relationship between the number of dishes ordered and the day of the week')"
   ]
  },
  {
   "cell_type": "code",
   "execution_count": null,
   "id": "735b6850-db37-4015-9aa7-9471ab01095b",
   "metadata": {},
   "outputs": [],
   "source": []
  },
  {
   "cell_type": "code",
   "execution_count": null,
   "id": "2f9a7af3-4400-474e-b096-b5c9a4efe654",
   "metadata": {},
   "outputs": [],
   "source": []
  }
 ],
 "metadata": {
  "kernelspec": {
   "display_name": "Python 3 (ipykernel)",
   "language": "python",
   "name": "python3"
  },
  "language_info": {
   "codemirror_mode": {
    "name": "ipython",
    "version": 3
   },
   "file_extension": ".py",
   "mimetype": "text/x-python",
   "name": "python",
   "nbconvert_exporter": "python",
   "pygments_lexer": "ipython3",
   "version": "3.12.6"
  }
 },
 "nbformat": 4,
 "nbformat_minor": 5
}
